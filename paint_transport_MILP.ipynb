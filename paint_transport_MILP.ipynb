{
  "cells": [
    {
      "cell_type": "markdown",
      "metadata": {
        "id": "view-in-github",
        "colab_type": "text"
      },
      "source": [
        "<a href=\"https://colab.research.google.com/github/IG-Reagan/Mathematical-Modelling_Network-Flow-Optimisation_Paint-Transportation-Problem/blob/main/paint_transport_MILP.ipynb\" target=\"_parent\"><img src=\"https://colab.research.google.com/assets/colab-badge.svg\" alt=\"Open In Colab\"/></a>"
      ]
    },
    {
      "cell_type": "markdown",
      "id": "cbef4a77",
      "metadata": {
        "id": "cbef4a77"
      },
      "source": [
        "# Paint Transportation — MILP with Warehouse-Closure Decision (Problem 3)\n",
        "**Author:** Giwa Iziomo  \n",
        "**Model:** Mixed Integer Linear Programming (MILP) using PuLP (CBC)\n",
        "\n",
        "This notebook decides **which two warehouses to keep open** to minimise weekly transport cost. Shipments may go **factory to wholesaler** or **factory to warehouse to wholesaler**. Binary variables `y_w` indicate whether warehouse *w* is open. A variant also considers **rental income** if Birmingham is closed."
      ]
    },
    {
      "cell_type": "code",
      "source": [
        "# Install PuLP\n",
        "\n",
        "!pip install pulp"
      ],
      "metadata": {
        "colab": {
          "base_uri": "https://localhost:8080/"
        },
        "id": "OLwCMo4hwzG8",
        "outputId": "ae14f17e-8aee-4eda-d6e6-dfbf7322b9be"
      },
      "id": "OLwCMo4hwzG8",
      "execution_count": 2,
      "outputs": [
        {
          "output_type": "stream",
          "name": "stdout",
          "text": [
            "Collecting pulp\n",
            "  Downloading pulp-3.3.0-py3-none-any.whl.metadata (8.4 kB)\n",
            "Downloading pulp-3.3.0-py3-none-any.whl (16.4 MB)\n",
            "\u001b[2K   \u001b[90m━━━━━━━━━━━━━━━━━━━━━━━━━━━━━━━━━━━━━━━━\u001b[0m \u001b[32m16.4/16.4 MB\u001b[0m \u001b[31m83.3 MB/s\u001b[0m eta \u001b[36m0:00:00\u001b[0m\n",
            "\u001b[?25hInstalling collected packages: pulp\n",
            "Successfully installed pulp-3.3.0\n"
          ]
        }
      ]
    },
    {
      "cell_type": "code",
      "execution_count": 3,
      "id": "8324d269",
      "metadata": {
        "id": "8324d269"
      },
      "outputs": [],
      "source": [
        "# Import PuLP\n",
        "\n",
        "import pulp"
      ]
    },
    {
      "cell_type": "code",
      "source": [
        "# -----------------------------\n",
        "# 1. Sets\n",
        "# -----------------------------\n",
        "\n",
        "factories = [\"Bristol\", \"Leeds\"]\n",
        "warehouses = [\"London\", \"Birmingham\", \"Glasgow\"]\n",
        "wholesalers = [\"Wholesaler 1\", \"Wholesaler 2\", \"Wholesaler 3\", \"Wholesaler 4\", \"Wholesaler 5\"]\n"
      ],
      "metadata": {
        "id": "yFyerye3wtct"
      },
      "id": "yFyerye3wtct",
      "execution_count": 4,
      "outputs": []
    },
    {
      "cell_type": "code",
      "source": [
        "# -----------------------------\n",
        "# 2. Parameters\n",
        "# -----------------------------\n",
        "\n",
        "# Factory -> Warehouse costs (£/ton)\n",
        "fw_cost = {\n",
        "    (\"Bristol\", \"London\"): 25, (\"Bristol\", \"Birmingham\"): 23, (\"Bristol\", \"Glasgow\"): 500,\n",
        "    (\"Leeds\", \"London\"): 30, (\"Leeds\", \"Birmingham\"): 27, (\"Leeds\", \"Glasgow\"): 30,\n",
        "}\n",
        "\n",
        "# Factory -> Wholesaler direct costs (£/ton) - use 500 for infeasible\n",
        "fh_cost = {\n",
        "    (\"Bristol\", \"Wholesaler 1\"): 80, (\"Bristol\", \"Wholesaler 2\"): 500, (\"Bristol\", \"Wholesaler 3\"): 90,\n",
        "    (\"Bristol\", \"Wholesaler 4\"): 100, (\"Bristol\", \"Wholesaler 5\"): 86,\n",
        "    (\"Leeds\", \"Wholesaler 1\"): 500, (\"Leeds\", \"Wholesaler 2\"): 70, (\"Leeds\", \"Wholesaler 3\"): 54,\n",
        "    (\"Leeds\", \"Wholesaler 4\"): 500, (\"Leeds\", \"Wholesaler 5\"): 100,\n",
        "}\n",
        "\n",
        "# Warehouse -> Wholesaler costs (£/ton)\n",
        "wh_cost = {\n",
        "    (\"London\", \"Wholesaler 1\"): 37, (\"London\", \"Wholesaler 2\"): 31,\n",
        "    (\"London\", \"Wholesaler 3\"): 500, (\"London\", \"Wholesaler 4\"): 40, (\"London\", \"Wholesaler 5\"): 44,\n",
        "    (\"Birmingham\", \"Wholesaler 1\"): 36, (\"Birmingham\", \"Wholesaler 2\"): 40,\n",
        "    (\"Birmingham\", \"Wholesaler 3\"): 43, (\"Birmingham\", \"Wholesaler 4\"): 40, (\"Birmingham\", \"Wholesaler 5\"): 46,\n",
        "    (\"Glasgow\", \"Wholesaler 1\"): 45, (\"Glasgow\", \"Wholesaler 2\"): 42,\n",
        "    (\"Glasgow\", \"Wholesaler 3\"): 30, (\"Glasgow\", \"Wholesaler 4\"): 500, (\"Glasgow\", \"Wholesaler 5\"): 36,\n",
        "}\n",
        "\n",
        "# Supplies (tons/week)\n",
        "supply = {\"Bristol\": 40000, \"Leeds\": 50000}\n",
        "\n",
        "# Warehouse capacities (tons/week) when open\n",
        "capacity = {\"London\": 20000, \"Birmingham\": 15000, \"Glasgow\": 12000}\n",
        "\n",
        "# Demands (tons/week)\n",
        "demand = {\"Wholesaler 1\": 15000, \"Wholesaler 2\": 20000, \"Wholesaler 3\": 13000,\n",
        "          \"Wholesaler 4\": 14000, \"Wholesaler 5\": 16000}\n",
        "\n",
        "M = 10**6  # big-M for linking constraints (safely larger than any feasible flow)"
      ],
      "metadata": {
        "id": "aPOho2gexD9y"
      },
      "id": "aPOho2gexD9y",
      "execution_count": 5,
      "outputs": []
    },
    {
      "cell_type": "code",
      "source": [
        "# -----------------------------\n",
        "# 3. Build MILP (transport cost only)\n",
        "# -----------------------------\n",
        "\n",
        "model = pulp.LpProblem(\"Paint_MILP_Choose_2_Warehouses\", pulp.LpMinimize)\n",
        "\n",
        "# Decision variables\n",
        "x_fw = pulp.LpVariable.dicts(\"x_fw\", fw_cost.keys(), lowBound=0)  # factory->warehouse\n",
        "x_fh = pulp.LpVariable.dicts(\"x_fh\", fh_cost.keys(), lowBound=0)  # factory->wholesaler direct\n",
        "x_wh = pulp.LpVariable.dicts(\"x_wh\", wh_cost.keys(), lowBound=0)  # warehouse->wholesaler\n",
        "\n",
        "y = pulp.LpVariable.dicts(\"y\", warehouses, lowBound=0, upBound=1, cat=\"Binary\")  # warehouse open?\n",
        "\n",
        "# Objective: transport cost\n",
        "model += (\n",
        "    pulp.lpSum(fw_cost[k]*x_fw[k] for k in fw_cost) +\n",
        "    pulp.lpSum(fh_cost[k]*x_fh[k] for k in fh_cost) +\n",
        "    pulp.lpSum(wh_cost[k]*x_wh[k] for k in wh_cost)\n",
        ")\n",
        "\n",
        "# Supply constraints at factories\n",
        "for i in factories:\n",
        "    model += (\n",
        "        pulp.lpSum(x_fw[(i,w)] for w in warehouses if (i,w) in fw_cost) +\n",
        "        pulp.lpSum(x_fh[(i,h)] for h in wholesalers if (i,h) in fh_cost)\n",
        "        <= supply[i]\n",
        "    ), f\"supply_{i}\"\n",
        "\n",
        "# Flow conservation and capacity at warehouses\n",
        "for w in warehouses:\n",
        "    inflow = pulp.lpSum(x_fw[(i,w)] for i in factories if (i,w) in fw_cost)\n",
        "    outflow = pulp.lpSum(x_wh[(w,h)] for h in wholesalers if (w,h) in wh_cost)\n",
        "    model += inflow == outflow, f\"balance_{w}\"\n",
        "    # Throughput allowed only if open\n",
        "    model += outflow <= capacity[w]*y[w], f\"capacity_{w}\"\n",
        "    # Optional big-M to further restrict\n",
        "    model += outflow <= M*y[w], f\"bigM_{w}\"\n",
        "\n",
        "# Demand satisfaction at wholesalers\n",
        "for h in wholesalers:\n",
        "    model += (\n",
        "        pulp.lpSum(x_fh[(i,h)] for i in factories if (i,h) in fh_cost) +\n",
        "        pulp.lpSum(x_wh[(w,h)] for w in warehouses if (w,h) in wh_cost)\n",
        "        >= demand[h]\n",
        "    ), f\"demand_{h}\"\n",
        "\n",
        "# Exactly two warehouses open\n",
        "model += pulp.lpSum(y[w] for w in warehouses) == 2, \"two_warehouses_open\"\n",
        "\n",
        "# Solve\n",
        "model.solve(pulp.PULP_CBC_CMD(msg=False))\n",
        "\n",
        "print(\"Status (transport cost only):\", pulp.LpStatus[model.status])\n",
        "print(f\"Minimum transport cost (2 warehouses open): £{pulp.value(model.objective):,.0f}\")\n",
        "\n",
        "open_warehouses = [w for w in warehouses if y[w].value() > 0.5]\n",
        "print(\"Warehouses kept open:\", open_warehouses)\n",
        "\n",
        "# Print flows (non-zero)\n",
        "def print_flows():\n",
        "    print(\"\\nFactory -> Warehouse\")\n",
        "    for k,v in x_fw.items():\n",
        "        if v.value() and v.value() > 1e-6:\n",
        "            print(f\"{k[0]} → {k[1]}: {v.value():,.0f} t @ £{fw_cost[k]}/t\")\n",
        "    print(\"\\nFactory -> Wholesaler (direct)\")\n",
        "    for k,v in x_fh.items():\n",
        "        if v.value() and v.value() > 1e-6:\n",
        "            print(f\"{k[0]} → {k[1]}: {v.value():,.0f} t @ £{fh_cost[k]}/t\")\n",
        "    print(\"\\nWarehouse -> Wholesaler\")\n",
        "    for k,v in x_wh.items():\n",
        "        if v.value() and v.value() > 1e-6:\n",
        "            print(f\"{k[0]} → {k[1]}: {v.value():,.0f} t @ £{wh_cost[k]}/t\")\n",
        "print_flows()"
      ],
      "metadata": {
        "colab": {
          "base_uri": "https://localhost:8080/"
        },
        "id": "VWA08dXSxHYh",
        "outputId": "109a6257-18f8-4f36-ac00-ed5a9e279295"
      },
      "id": "VWA08dXSxHYh",
      "execution_count": 6,
      "outputs": [
        {
          "output_type": "stream",
          "name": "stdout",
          "text": [
            "Status (transport cost only): Optimal\n",
            "Minimum transport cost (2 warehouses open): £5,191,000\n",
            "Warehouses kept open: ['London', 'Birmingham']\n",
            "\n",
            "Factory -> Warehouse\n",
            "Bristol → London: 20,000 t @ £25/t\n",
            "Bristol → Birmingham: 10,000 t @ £23/t\n",
            "Leeds → Birmingham: 5,000 t @ £27/t\n",
            "\n",
            "Factory -> Wholesaler (direct)\n",
            "Bristol → Wholesaler 5: 10,000 t @ £86/t\n",
            "Leeds → Wholesaler 2: 20,000 t @ £70/t\n",
            "Leeds → Wholesaler 3: 13,000 t @ £54/t\n",
            "\n",
            "Warehouse -> Wholesaler\n",
            "London → Wholesaler 4: 14,000 t @ £40/t\n",
            "London → Wholesaler 5: 6,000 t @ £44/t\n",
            "Birmingham → Wholesaler 1: 15,000 t @ £36/t\n"
          ]
        }
      ]
    },
    {
      "cell_type": "code",
      "source": [
        "# -----------------------------\n",
        "# 4. Variant: include rental income if Birmingham is closed\n",
        "# -----------------------------\n",
        "\n",
        "rent_per_week = 21_000  # per 1,000 tons\n",
        "bham_capacity = capacity[\"Birmingham\"]  # 15,000 t\n",
        "bham_rent_income = rent_per_week * (bham_capacity / 1000.0)  # £315,000/week\n",
        "\n",
        "model_rent = pulp.LpProblem(\"Paint_MILP_With_Birmingham_Rent\", pulp.LpMinimize)\n",
        "\n",
        "# Clone variables\n",
        "x_fw2 = pulp.LpVariable.dicts(\"x_fw\", fw_cost.keys(), lowBound=0)\n",
        "x_fh2 = pulp.LpVariable.dicts(\"x_fh\", fh_cost.keys(), lowBound=0)\n",
        "x_wh2 = pulp.LpVariable.dicts(\"x_wh\", wh_cost.keys(), lowBound=0)\n",
        "y2 = pulp.LpVariable.dicts(\"y\", warehouses, lowBound=0, upBound=1, cat=\"Binary\")\n",
        "\n",
        "# Objective: transport cost minus rental income if Birmingham closed\n",
        "model_rent += (\n",
        "    pulp.lpSum(fw_cost[k]*x_fw2[k] for k in fw_cost) +\n",
        "    pulp.lpSum(fh_cost[k]*x_fh2[k] for k in fh_cost) +\n",
        "    pulp.lpSum(wh_cost[k]*x_wh2[k] for k in wh_cost) -\n",
        "    bham_rent_income*(1 - y2[\"Birmingham\"])\n",
        ")\n",
        "\n",
        "# Constraints (same structure)\n",
        "for i in factories:\n",
        "    model_rent += (\n",
        "        pulp.lpSum(x_fw2[(i,w)] for w in warehouses if (i,w) in fw_cost) +\n",
        "        pulp.lpSum(x_fh2[(i,h)] for h in wholesalers if (i,h) in fh_cost)\n",
        "        <= supply[i]\n",
        "    )\n",
        "\n",
        "for w in warehouses:\n",
        "    inflow = pulp.lpSum(x_fw2[(i,w)] for i in factories if (i,w) in fw_cost)\n",
        "    outflow = pulp.lpSum(x_wh2[(w,h)] for h in wholesalers if (w,h) in wh_cost)\n",
        "    model_rent += inflow == outflow\n",
        "    model_rent += outflow <= capacity[w]*y2[w]\n",
        "    model_rent += outflow <= M*y2[w]\n",
        "\n",
        "for h in wholesalers:\n",
        "    model_rent += (\n",
        "        pulp.lpSum(x_fh2[(i,h)] for i in factories if (i,h) in fh_cost) +\n",
        "        pulp.lpSum(x_wh2[(w,h)] for w in warehouses if (w,h) in wh_cost)\n",
        "        >= demand[h]\n",
        "    )\n",
        "\n",
        "model_rent += pulp.lpSum(y2[w] for w in warehouses) == 2\n",
        "\n",
        "model_rent.solve(pulp.PULP_CBC_CMD(msg=False))\n",
        "\n",
        "print(\"\\nStatus (with Birmingham rent):\", pulp.LpStatus[model_rent.status])\n",
        "print(f\"Minimum net cost (transport – rent): £{pulp.value(model_rent.objective):,.0f}\")\n",
        "print(\"Warehouses kept open (with rent):\", [w for w in warehouses if y2[w].value() > 0.5])"
      ],
      "metadata": {
        "colab": {
          "base_uri": "https://localhost:8080/"
        },
        "id": "T1rnrY6ExLF9",
        "outputId": "fda0971c-2d3b-49dd-8506-61db7ab80420"
      },
      "id": "T1rnrY6ExLF9",
      "execution_count": 7,
      "outputs": [
        {
          "output_type": "stream",
          "name": "stdout",
          "text": [
            "\n",
            "Status (with Birmingham rent): Optimal\n",
            "Minimum net cost (transport – rent): £4,925,000\n",
            "Warehouses kept open (with rent): ['London', 'Glasgow']\n"
          ]
        }
      ]
    },
    {
      "cell_type": "code",
      "source": [],
      "metadata": {
        "id": "UALLvFVYxWJ0"
      },
      "id": "UALLvFVYxWJ0",
      "execution_count": null,
      "outputs": []
    }
  ],
  "metadata": {
    "colab": {
      "provenance": [],
      "include_colab_link": true
    },
    "language_info": {
      "name": "python"
    },
    "kernelspec": {
      "name": "python3",
      "display_name": "Python 3"
    }
  },
  "nbformat": 4,
  "nbformat_minor": 5
}