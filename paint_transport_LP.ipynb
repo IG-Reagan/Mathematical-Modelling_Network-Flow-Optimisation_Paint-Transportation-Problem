{
  "cells": [
    {
      "cell_type": "markdown",
      "metadata": {
        "id": "view-in-github",
        "colab_type": "text"
      },
      "source": [
        "<a href=\"https://colab.research.google.com/github/IG-Reagan/Mathematical-Modelling_Network-Flow-Optimisation_Paint-Transportation-Problem/blob/main/paint_transport_LP.ipynb\" target=\"_parent\"><img src=\"https://colab.research.google.com/assets/colab-badge.svg\" alt=\"Open In Colab\"/></a>"
      ]
    },
    {
      "cell_type": "markdown",
      "id": "f13464f2",
      "metadata": {
        "id": "f13464f2"
      },
      "source": [
        "# Paint Transportation Optimisation (Linear Programming Model)\n",
        "**Author:** Giwa Iziomo  \n",
        "**Project:** Mathematical Modelling - Network Flow Optimisation (Transportation Problem)\n",
        "\n",
        "This notebook determines the minimum-cost weekly transport schedule for a UK paint manufacturer. Two factories supply paint either directly to five wholesalers or through three warehouses.\n",
        "\n",
        "**Model Type:** Linear Programming (LP) using PuLP."
      ]
    },
    {
      "cell_type": "code",
      "metadata": {
        "colab": {
          "base_uri": "https://localhost:8080/"
        },
        "id": "55f52edb",
        "outputId": "20dc8e29-62ac-49ec-efe0-c7e3a70abd8e"
      },
      "source": [
        "# Install PuLP\n",
        "\n",
        "!pip install pulp"
      ],
      "id": "55f52edb",
      "execution_count": 10,
      "outputs": [
        {
          "output_type": "stream",
          "name": "stdout",
          "text": [
            "Requirement already satisfied: pulp in /usr/local/lib/python3.12/dist-packages (3.3.0)\n"
          ]
        }
      ]
    },
    {
      "cell_type": "code",
      "execution_count": 11,
      "id": "7a5e1f4a",
      "metadata": {
        "id": "7a5e1f4a"
      },
      "outputs": [],
      "source": [
        "# Import PuLP\n",
        "\n",
        "import pulp"
      ]
    },
    {
      "cell_type": "code",
      "source": [
        "# -----------------------------\n",
        "# 1. Sets and Data\n",
        "# -----------------------------\n",
        "\n",
        "suppliers = [\"Bristol\", \"Leeds\", \"London\", \"Birmingham\", \"Glasgow\"]\n",
        "destinations = [\n",
        "    \"London\", \"Birmingham\", \"Glasgow\",\n",
        "    \"Wholesaler 1\", \"Wholesaler 2\", \"Wholesaler 3\", \"Wholesaler 4\", \"Wholesaler 5\"\n",
        "]\n",
        "\n",
        "# Transportation cost (£ per ton)\n",
        "# Infeasible routes assigned a prohibitive cost of £500/t\n",
        "cost = {\n",
        "    (\"Bristol\", \"London\"): 25, (\"Bristol\", \"Birmingham\"): 23,\n",
        "    (\"Bristol\", \"Glasgow\"): 500, (\"Bristol\", \"Wholesaler 1\"): 80,\n",
        "    (\"Bristol\", \"Wholesaler 2\"): 500, (\"Bristol\", \"Wholesaler 3\"): 90,\n",
        "    (\"Bristol\", \"Wholesaler 4\"): 100, (\"Bristol\", \"Wholesaler 5\"): 86,\n",
        "\n",
        "    (\"Leeds\", \"London\"): 30, (\"Leeds\", \"Birmingham\"): 27, (\"Leeds\", \"Glasgow\"): 30,\n",
        "    (\"Leeds\", \"Wholesaler 1\"): 500, (\"Leeds\", \"Wholesaler 2\"): 70,\n",
        "    (\"Leeds\", \"Wholesaler 3\"): 54, (\"Leeds\", \"Wholesaler 4\"): 500,\n",
        "    (\"Leeds\", \"Wholesaler 5\"): 100,\n",
        "\n",
        "    (\"London\", \"London\"): 500, (\"London\", \"Birmingham\"): 500, (\"London\", \"Glasgow\"): 500,\n",
        "    (\"London\", \"Wholesaler 1\"): 37, (\"London\", \"Wholesaler 2\"): 31,\n",
        "    (\"London\", \"Wholesaler 3\"): 500, (\"London\", \"Wholesaler 4\"): 40,\n",
        "    (\"London\", \"Wholesaler 5\"): 44,\n",
        "\n",
        "    (\"Birmingham\", \"London\"): 500, (\"Birmingham\", \"Birmingham\"): 500, (\"Birmingham\", \"Glasgow\"): 500,\n",
        "    (\"Birmingham\", \"Wholesaler 1\"): 36, (\"Birmingham\", \"Wholesaler 2\"): 40,\n",
        "    (\"Birmingham\", \"Wholesaler 3\"): 43, (\"Birmingham\", \"Wholesaler 4\"): 40,\n",
        "    (\"Birmingham\", \"Wholesaler 5\"): 46,\n",
        "\n",
        "    (\"Glasgow\", \"London\"): 500, (\"Glasgow\", \"Birmingham\"): 500, (\"Glasgow\", \"Glasgow\"): 500,\n",
        "    (\"Glasgow\", \"Wholesaler 1\"): 45, (\"Glasgow\", \"Wholesaler 2\"): 42,\n",
        "    (\"Glasgow\", \"Wholesaler 3\"): 30, (\"Glasgow\", \"Wholesaler 4\"): 500,\n",
        "    (\"Glasgow\", \"Wholesaler 5\"): 36,\n",
        "}\n",
        "\n",
        "# Supply limits (tons)\n",
        "supply = {\"Bristol\": 40000, \"Leeds\": 50000, \"London\": 20000,\n",
        "          \"Birmingham\": 15000, \"Glasgow\": 12000}\n",
        "\n",
        "# Demand requirements (tons)\n",
        "demand = {\n",
        "    \"London\": 20000, \"Birmingham\": 15000, \"Glasgow\": 12000,\n",
        "    \"Wholesaler 1\": 15000, \"Wholesaler 2\": 20000, \"Wholesaler 3\": 13000,\n",
        "    \"Wholesaler 4\": 14000, \"Wholesaler 5\": 16000\n",
        "}"
      ],
      "metadata": {
        "id": "jC0ceZhVuFWa"
      },
      "id": "jC0ceZhVuFWa",
      "execution_count": 5,
      "outputs": []
    },
    {
      "cell_type": "code",
      "source": [
        "# -----------------------------\n",
        "# 2. Model Definition\n",
        "# -----------------------------\n",
        "\n",
        "model = pulp.LpProblem(\"Paint_Transportation_3_Warehouses\", pulp.LpMinimize)\n",
        "\n",
        "# Decision variables: quantity shipped from supplier i to destination j (tons)\n",
        "x = pulp.LpVariable.dicts(\"ship\", (suppliers, destinations),\n",
        "                          lowBound=0, cat=\"Continuous\")\n",
        "\n",
        "# Objective function: minimise total weekly transport cost\n",
        "model += pulp.lpSum(cost[(i, j)] * x[i][j]\n",
        "                    for i in suppliers for j in destinations if (i, j) in cost)"
      ],
      "metadata": {
        "id": "avwsp-6luy0y"
      },
      "id": "avwsp-6luy0y",
      "execution_count": 6,
      "outputs": []
    },
    {
      "cell_type": "code",
      "source": [
        "# -----------------------------\n",
        "# 3. Constraints\n",
        "# -----------------------------\n",
        "\n",
        "# Supply constraints\n",
        "for i in suppliers:\n",
        "    model += pulp.lpSum(x[i][j] for j in destinations if (i, j) in cost) <= supply[i], f\"Supply_{i}\"\n",
        "\n",
        "# Demand constraints\n",
        "for j in destinations:\n",
        "    model += pulp.lpSum(x[i][j] for i in suppliers if (i, j) in cost) >= demand[j], f\"Demand_{j}\"\n"
      ],
      "metadata": {
        "id": "s-zYDdKGu1RT"
      },
      "id": "s-zYDdKGu1RT",
      "execution_count": 7,
      "outputs": []
    },
    {
      "cell_type": "code",
      "source": [
        "# -----------------------------\n",
        "# 4. Solve\n",
        "# -----------------------------\n",
        "\n",
        "model.solve(pulp.PULP_CBC_CMD(msg=False))"
      ],
      "metadata": {
        "colab": {
          "base_uri": "https://localhost:8080/"
        },
        "id": "Gn0B2Pxmu3VH",
        "outputId": "0147cecf-d6cb-4fa5-bf2b-94497b02501c"
      },
      "id": "Gn0B2Pxmu3VH",
      "execution_count": 8,
      "outputs": [
        {
          "output_type": "execute_result",
          "data": {
            "text/plain": [
              "1"
            ]
          },
          "metadata": {},
          "execution_count": 8
        }
      ]
    },
    {
      "cell_type": "code",
      "source": [
        "# -----------------------------\n",
        "# 5. Results\n",
        "# -----------------------------\n",
        "\n",
        "print(\"Status:\", pulp.LpStatus[model.status])\n",
        "print(f\"Minimum total weekly transport cost: £{pulp.value(model.objective):,.0f}\\n\")\n",
        "\n",
        "print(\"Optimal Shipment Plan (only non-zero routes):\")\n",
        "print(\"-\" * 65)\n",
        "for i in suppliers:\n",
        "    for j in destinations:\n",
        "        if (i, j) in cost and x[i][j].value() > 1e-6:\n",
        "            tons = x[i][j].value()\n",
        "            route_cost = cost[(i, j)]\n",
        "            print(f\"{i:<10} → {j:<12} : {tons:8,.0f} tons  @ £{route_cost}/t   (£{tons*route_cost:,.0f})\")"
      ],
      "metadata": {
        "colab": {
          "base_uri": "https://localhost:8080/"
        },
        "id": "XbxA3ftPu5pB",
        "outputId": "ae8e3a49-5b1e-461a-a323-f9fdec4b21f1"
      },
      "id": "XbxA3ftPu5pB",
      "execution_count": 9,
      "outputs": [
        {
          "output_type": "stream",
          "name": "stdout",
          "text": [
            "Status: Optimal\n",
            "Minimum total weekly transport cost: £4,937,000\n",
            "\n",
            "Optimal Shipment Plan (only non-zero routes):\n",
            "-----------------------------------------------------------------\n",
            "Bristol    → London       :   20,000 tons  @ £25/t   (£500,000)\n",
            "Bristol    → Birmingham   :   15,000 tons  @ £23/t   (£345,000)\n",
            "Leeds      → Glasgow      :   12,000 tons  @ £30/t   (£360,000)\n",
            "Leeds      → Wholesaler 2 :   18,000 tons  @ £70/t   (£1,260,000)\n",
            "Leeds      → Wholesaler 3 :   13,000 tons  @ £54/t   (£702,000)\n",
            "London     → Wholesaler 2 :    2,000 tons  @ £31/t   (£62,000)\n",
            "London     → Wholesaler 4 :   14,000 tons  @ £40/t   (£560,000)\n",
            "London     → Wholesaler 5 :    4,000 tons  @ £44/t   (£176,000)\n",
            "Birmingham → Wholesaler 1 :   15,000 tons  @ £36/t   (£540,000)\n",
            "Glasgow    → Wholesaler 5 :   12,000 tons  @ £36/t   (£432,000)\n"
          ]
        }
      ]
    },
    {
      "cell_type": "code",
      "source": [],
      "metadata": {
        "id": "CM0a1enNu7ul"
      },
      "id": "CM0a1enNu7ul",
      "execution_count": null,
      "outputs": []
    }
  ],
  "metadata": {
    "colab": {
      "provenance": [],
      "include_colab_link": true
    },
    "language_info": {
      "name": "python"
    },
    "kernelspec": {
      "name": "python3",
      "display_name": "Python 3"
    }
  },
  "nbformat": 4,
  "nbformat_minor": 5
}